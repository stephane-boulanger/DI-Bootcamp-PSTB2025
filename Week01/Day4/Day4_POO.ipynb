{
 "cells": [
  {
   "cell_type": "markdown",
   "id": "db450468-96b8-4ba9-acc2-8df75c020e9d",
   "metadata": {},
   "source": [
    "### I Inheritance"
   ]
  },
  {
   "cell_type": "code",
   "execution_count": 4,
   "id": "579c6ecb-9a51-482a-b985-65f355b93a33",
   "metadata": {},
   "outputs": [
    {
     "name": "stdout",
     "output_type": "stream",
     "text": [
      "red\n",
      "<class '__main__.NewCircle'>\n"
     ]
    }
   ],
   "source": [
    "class Circle:\n",
    "    def __init__(self, color):\n",
    "        self.color = \"Red\"\n",
    "    \n",
    "#héritage\n",
    "class NewCircle(Circle):\n",
    "    rayon = \"petit\"\n",
    "\n",
    "nc = NewCircle\n",
    "print(nc.color)\n",
    "\n",
    "print(NewCircle)"
   ]
  },
  {
   "cell_type": "code",
   "execution_count": 5,
   "id": "71a248d1-4a21-4bfe-bab1-6e4754789162",
   "metadata": {},
   "outputs": [
    {
     "name": "stdout",
     "output_type": "stream",
     "text": [
      "1\n",
      "4\n"
     ]
    }
   ],
   "source": [
    "class Circle:\n",
    "    def __init__(self, diameter):\n",
    "      self.diameter = diameter\n",
    "\n",
    "    def grow(self, factor=3):\n",
    "        \"\"\"grows the circle's diameter by factor\"\"\"\n",
    "        self.diameter = self.diameter * factor\n",
    "\n",
    "class NewCircle(Circle):\n",
    "    def grow(self, factor=2):\n",
    "        \"\"\"grows the area by factor...\"\"\"\n",
    "        self.diameter = (self.diameter * factor * 2)\n",
    "\n",
    "nc = NewCircle(1)\n",
    "print(nc.diameter)\n",
    "\n",
    "nc.grow()\n",
    "\n",
    "print(nc.diameter)"
   ]
  },
  {
   "cell_type": "markdown",
   "id": "1c46620b-52c4-494b-b863-be26268e131a",
   "metadata": {},
   "source": [
    "### II Overriding Parent Methods"
   ]
  },
  {
   "cell_type": "code",
   "execution_count": 3,
   "id": "c65b71e5-8bb6-4550-be18-6069aee39030",
   "metadata": {},
   "outputs": [
    {
     "name": "stdout",
     "output_type": "stream",
     "text": [
      "I am an DOGGG !!! WOUAFFF!!\n"
     ]
    }
   ],
   "source": [
    "class Animal():\n",
    "    def __init__(self, type, number_legs, sound):\n",
    "        self.type = type\n",
    "        self.number_legs = number_legs\n",
    "        self.sound = sound\n",
    "\n",
    "    def make_sound(self):\n",
    "        print(f\"I am an animal, and I love saying {self.sound}\")\n",
    "\n",
    "class Dog(Animal):\n",
    "    def fetch_ball(self):\n",
    "        print(\"I am a dog, and I love fetching balls\")\n",
    "\n",
    "    def make_sound(self):\n",
    "        print(\"I am an DOGGG !!! WOUAFFF!!\")\n",
    "\n",
    "rex = Dog('dog', 4, \"Wouaf\")\n",
    "rex.make_sound()"
   ]
  },
  {
   "cell_type": "markdown",
   "id": "b2cc155d-6303-49f9-a7fe-d98ed16bcad9",
   "metadata": {},
   "source": [
    "### III. The super() Function"
   ]
  },
  {
   "cell_type": "markdown",
   "id": "790f212a-4486-4e36-b839-f8d313348c6d",
   "metadata": {},
   "source": [
    "**Quand on fait de l’héritage en Python**:\n",
    "- Une classe enfant hérite des attributs et méthodes d’une classe parent.\n",
    "- Mais si on redéfinis la méthode __init__() dans la classe enfant, Python n’exécute plus automatiquement celle du parent.\n",
    "- Pour garder le comportement du parent et ajouter le tien, tu utilises super()."
   ]
  },
  {
   "cell_type": "code",
   "execution_count": 7,
   "id": "c9aba179-5da7-4ef4-964a-5bea590ac938",
   "metadata": {},
   "outputs": [
    {
     "name": "stdout",
     "output_type": "stream",
     "text": [
      "Animal Rex créé\n",
      "Chien de race Berger Allemand créé\n"
     ]
    }
   ],
   "source": [
    "#Exemple pratique\n",
    "class Animal:\n",
    "    def __init__(self, nom):\n",
    "        self.nom = nom\n",
    "        print(f\"Animal {self.nom} créé\")\n",
    "\n",
    "class Chien(Animal):\n",
    "    def __init__(self, nom, race):\n",
    "        # on appelle l'init de la classe parente\n",
    "        super().__init__(nom)\n",
    "        self.race = race ## ici on crée un attribut d'instance\n",
    "        print(f\"Chien de race {self.race} créé\")\n",
    "#classe enfant\n",
    "rex = Chien(\"Rex\", \"Berger Allemand\")"
   ]
  },
  {
   "cell_type": "markdown",
   "id": "b5b454e8-c078-4598-b779-5733bea87019",
   "metadata": {},
   "source": [
    "**Sans super() :**\n",
    "* Ici, self.nom n’existe pas"
   ]
  },
  {
   "cell_type": "code",
   "execution_count": 16,
   "id": "ef022fc7-4909-4d04-a9e4-ce6ca9b422fa",
   "metadata": {},
   "outputs": [
    {
     "ename": "AttributeError",
     "evalue": "type object 'Chien' has no attribute 'nom'",
     "output_type": "error",
     "traceback": [
      "\u001b[1;31m---------------------------------------------------------------------------\u001b[0m",
      "\u001b[1;31mAttributeError\u001b[0m                            Traceback (most recent call last)",
      "Cell \u001b[1;32mIn[16], line 13\u001b[0m\n\u001b[0;32m      8\u001b[0m         \u001b[38;5;28mself\u001b[39m\u001b[38;5;241m.\u001b[39mrace \u001b[38;5;241m=\u001b[39m race  \n\u001b[0;32m     10\u001b[0m \u001b[38;5;66;03m# Oubli d’appeler le parent !\u001b[39;00m\n\u001b[0;32m     11\u001b[0m \u001b[38;5;66;03m#ici y a pas \u001b[39;00m\n\u001b[1;32m---> 13\u001b[0m \u001b[38;5;28mprint\u001b[39m(Chien\u001b[38;5;241m.\u001b[39mnom)\n",
      "\u001b[1;31mAttributeError\u001b[0m: type object 'Chien' has no attribute 'nom'"
     ]
    }
   ],
   "source": [
    "class Animal:\n",
    "    def __init__(self, nom):\n",
    "        self.nom = nom\n",
    "        print(f\"Animal {self.nom} créé\")\n",
    "        \n",
    "class Chien(Animal):\n",
    "    def __init__(self, nom, race):\n",
    "        self.race = race  ## ici on crée un attribut d'instance\n",
    "\n",
    "# Oubli d’appeler le parent !\n",
    "#ici y a pas \n",
    "\n",
    "print(Chien.nom)\n",
    "#Chien.nom"
   ]
  },
  {
   "cell_type": "markdown",
   "id": "38eab1f0-f265-431a-bd55-5505f9495b64",
   "metadata": {},
   "source": [
    "**Explication simple**\n",
    "\n",
    "- self.race appartient à l’objet créé (l’instance), pas à la classe.\n",
    "- self → c’est l’objet concret (par exemple rex ou milou)\n",
    "- Chien → c’est la classe, le plan ou le moule\n",
    "- On ne peux donc pas accéder à race avant d’avoir créé un objet."
   ]
  },
  {
   "cell_type": "code",
   "execution_count": 15,
   "id": "66512a41-8685-4a88-b18c-45351d181b17",
   "metadata": {},
   "outputs": [
    {
     "name": "stdout",
     "output_type": "stream",
     "text": [
      "Labrador\n"
     ]
    }
   ],
   "source": [
    "class Animal:\n",
    "    def __init__(self, nom):\n",
    "        self.nom = nom\n",
    "\n",
    "class Chien(Animal):\n",
    "    def __init__(self, nom, race):\n",
    "        self.race = race\n",
    "\n",
    "rex = Chien(\"Rex\", \"Labrador\")\n",
    "print(rex.race)   # ✅ fonctionne"
   ]
  },
  {
   "cell_type": "markdown",
   "id": "9d4332f5-cb92-479a-8f02-b4725e46a535",
   "metadata": {},
   "source": [
    "- Ici, rex est une **instance** de Chien.\n",
    "- `self.race` devient un attribut de cet objet précis."
   ]
  },
  {
   "cell_type": "code",
   "execution_count": 1,
   "id": "7993be97-8946-4e42-8254-879fd390d27f",
   "metadata": {},
   "outputs": [
    {
     "name": "stdout",
     "output_type": "stream",
     "text": [
      "This animal is a: dog\n",
      "This dog has 4  legs\n",
      "This dog makes the sound  wouaf\n",
      "Does this dog fetchs balls ?  True\n"
     ]
    }
   ],
   "source": [
    "class Animal():\n",
    "    def __init__(self, type, number_legs, sound):\n",
    "        self.type = type\n",
    "        self.number_legs = number_legs\n",
    "        self.sound = sound\n",
    "#Animal c'est le parent\n",
    "#Classes called child classes or subclasses Dog\n",
    "class Dog(Animal): \n",
    "    def __init__(self, type, number_legs, sound, fetch_ball):\n",
    "        super().__init__(type, number_legs, sound)\n",
    "        # Or : Animal.__init__(self,type, number_legs, sound)\n",
    "        self.fetch_ball = fetch_ball\n",
    "\n",
    "rex = Dog('dog', 4, \"wouaf\", True)\n",
    "print('This animal is a:', rex.type)\n",
    "\n",
    "\n",
    "print('This dog has', rex.number_legs , ' legs')\n",
    "\n",
    "\n",
    "print('This dog makes the sound ', rex.sound)\n",
    "\n",
    "# access to inherited methods that have been overwritten in a class object rex.\n",
    "print('Does this dog fetchs balls ? ', rex.fetch_ball)"
   ]
  },
  {
   "cell_type": "markdown",
   "id": "dfe0a5cb-5a38-446c-b0b6-49ef11c47aa2",
   "metadata": {},
   "source": [
    "* On peux aussi préciser à partir de **quelle classe** tu veux utiliser la fonction `super()`."
   ]
  },
  {
   "cell_type": "code",
   "execution_count": 6,
   "id": "53d62c59-a0c2-4e42-8f06-a92d7c339f2e",
   "metadata": {},
   "outputs": [
    {
     "name": "stdout",
     "output_type": "stream",
     "text": [
      "I'm actually being called from the Child class\n",
      "But...\n",
      "I'm being called from the Parent class\n"
     ]
    }
   ],
   "source": [
    "class MyClass(object):\n",
    "    def func(self):\n",
    "        print(\"I'm being called from the Parent class\")\n",
    "\n",
    "\n",
    "class ChildClass(MyClass):\n",
    "    def func(self):\n",
    "        print(\"I'm actually being called from the Child class\")\n",
    "        print(\"But...\")\n",
    "        # Calling the `func()` method from the Parent class.\n",
    "        super(ChildClass, self).func()\n",
    "\n",
    "my_instance_2 = ChildClass()\n",
    "my_instance_2.func() # le role de super() er à partir de la classe MyClass on va utiliser la fonction func"
   ]
  },
  {
   "cell_type": "markdown",
   "id": "484ebe64-1cff-40d3-a5e5-823d4ee4a51f",
   "metadata": {},
   "source": [
    "### IV Decorateur"
   ]
  },
  {
   "cell_type": "code",
   "execution_count": 17,
   "id": "64704981-28ec-4514-8a8f-11c9e58f1615",
   "metadata": {},
   "outputs": [],
   "source": [
    "def new_decorator(func):\n",
    "    def wrap_func():\n",
    "        print(\"code before func!\")\n",
    "        func()\n",
    "        print(\"code after func!\")\n",
    "    return wrap_func\n",
    "\n",
    "@new_decorator\n",
    "def decorate_me():\n",
    "    print(\"decorate me!\")\n"
   ]
  },
  {
   "cell_type": "code",
   "execution_count": 19,
   "id": "4fa075c1-963d-4bdf-881a-fa9da8451256",
   "metadata": {},
   "outputs": [
    {
     "name": "stdout",
     "output_type": "stream",
     "text": [
      "something is happening\n",
      "something is happening\n"
     ]
    },
    {
     "data": {
      "text/plain": [
       "'WHOA!'"
      ]
     },
     "execution_count": 19,
     "metadata": {},
     "output_type": "execute_result"
    }
   ],
   "source": [
    "def perform_action(func):\n",
    "    def wrap_func():\n",
    "        print(\"something is happening\")\n",
    "        return func()\n",
    "    return wrap_func\n",
    "\n",
    "@perform_action\n",
    "def whisper():\n",
    "    return \"Shhhh\"\n",
    "\n",
    "@perform_action\n",
    "def shout():\n",
    "    return \"WHOA!\"\n",
    "\n",
    "whisper()\n",
    "shout()"
   ]
  },
  {
   "cell_type": "code",
   "execution_count": 21,
   "id": "89ad8d43-0fdf-4f4c-b632-8b861da1312a",
   "metadata": {},
   "outputs": [
    {
     "data": {
      "text/plain": [
       "'wrap_func'"
      ]
     },
     "execution_count": 21,
     "metadata": {},
     "output_type": "execute_result"
    }
   ],
   "source": [
    "shout.__name__\n"
   ]
  },
  {
   "cell_type": "code",
   "execution_count": 23,
   "id": "6411e4db-ade0-49f2-bd78-5bf72aa4f026",
   "metadata": {},
   "outputs": [],
   "source": [
    "whisper.__doc__"
   ]
  },
  {
   "cell_type": "code",
   "execution_count": 24,
   "id": "e691cd69-743c-49f3-867b-d6d4f270d127",
   "metadata": {},
   "outputs": [
    {
     "name": "stdout",
     "output_type": "stream",
     "text": [
      "Hello\n",
      "Bye\n"
     ]
    }
   ],
   "source": [
    "# The decorator\n",
    "def is_called(func_as_arg):\n",
    "    # The wrapper function\n",
    "    def is_returned():\n",
    "        print(\"Hello\")\n",
    "        func_as_arg()\n",
    "    # returns the wrapper address\n",
    "    return is_returned\n",
    "\n",
    "def func_as_arg():\n",
    "     print(\"Bye\")\n",
    "\n",
    "new = is_called(func_as_arg)\n",
    "new()"
   ]
  },
  {
   "cell_type": "code",
   "execution_count": 26,
   "id": "15aa812d-d121-4612-8c86-0bfa7e1cc584",
   "metadata": {},
   "outputs": [
    {
     "name": "stdout",
     "output_type": "stream",
     "text": [
      "Hello world from the decorator\n",
      "Hello world from the function\n"
     ]
    }
   ],
   "source": [
    "# Example with the decorator\n",
    "def my_decorator(called_function):\n",
    "    def new_function():\n",
    "        print(\"Hello world from the decorator\")\n",
    "        called_function()\n",
    "    return new_function\n",
    "\n",
    "@my_decorator\n",
    "def print_helloworld():\n",
    "    print(\"Hello world from the function\")\n",
    "\n",
    "print_helloworld()\n",
    "# >> Hello world from the decorator\n",
    "# >> Hello world from the function\n",
    "\n"
   ]
  },
  {
   "cell_type": "code",
   "execution_count": 28,
   "id": "d79e312a-76a9-4f6d-a6f6-894d48e9cf06",
   "metadata": {},
   "outputs": [
    {
     "name": "stdout",
     "output_type": "stream",
     "text": [
      "Hello world from the decorator\n",
      "Hello world from the function\n"
     ]
    }
   ],
   "source": [
    "# Example with the decorator\n",
    "def my_decorator(called_function):\n",
    "    def new_function():\n",
    "        print(\"Hello world from the decorator\")\n",
    "        called_function()\n",
    "    return new_function\n",
    "\n",
    "@my_decorator\n",
    "def print_helloworld():\n",
    "    print(\"Hello world from the function\")\n",
    "\n",
    "print_helloworld()\n",
    "\n"
   ]
  },
  {
   "cell_type": "code",
   "execution_count": 29,
   "id": "f3b957c1-42e1-44e3-9e47-3af32dcf6818",
   "metadata": {},
   "outputs": [
    {
     "name": "stdout",
     "output_type": "stream",
     "text": [
      "Hello world from the decorator\n",
      "Hello world from the decorator\n",
      "Hello world from the function\n"
     ]
    }
   ],
   "source": [
    "# The same as writing \n",
    "print_helloworld = my_decorator(print_helloworld)\n",
    "print_helloworld()"
   ]
  },
  {
   "cell_type": "code",
   "execution_count": 7,
   "id": "4109ddda-b2a2-4de4-98cb-81669128f8fd",
   "metadata": {},
   "outputs": [
    {
     "name": "stdout",
     "output_type": "stream",
     "text": [
      "Collecting Faker\n",
      "  Downloading faker-37.11.0-py3-none-any.whl.metadata (15 kB)\n",
      "Requirement already satisfied: tzdata in c:\\users\\kered\\anaconda3\\lib\\site-packages (from Faker) (2023.3)\n",
      "Downloading faker-37.11.0-py3-none-any.whl (2.0 MB)\n",
      "   ---------------------------------------- 0.0/2.0 MB ? eta -:--:--\n",
      "   ----- ---------------------------------- 0.3/2.0 MB ? eta -:--:--\n",
      "   --------------------- ------------------ 1.0/2.0 MB 2.8 MB/s eta 0:00:01\n",
      "   ------------------------------- -------- 1.6/2.0 MB 3.0 MB/s eta 0:00:01\n",
      "   ---------------------------------------- 2.0/2.0 MB 3.0 MB/s eta 0:00:00\n",
      "Installing collected packages: Faker\n",
      "Successfully installed Faker-37.11.0\n"
     ]
    }
   ],
   "source": [
    " !pip install Faker"
   ]
  },
  {
   "cell_type": "code",
   "execution_count": 9,
   "id": "66e26ed2-9372-4675-811f-871bc46c9668",
   "metadata": {},
   "outputs": [
    {
     "name": "stdout",
     "output_type": "stream",
     "text": [
      "1979-10-25\n"
     ]
    }
   ],
   "source": [
    "from faker import Faker\n",
    "factice = Faker()\n",
    "\n",
    "def create_file(num):\n",
    "    f = open(\"datefile\" + num + \".txt\", \"w\")\n",
    "    for _ in range(100):\n",
    "        f.write(f\"{factice.date()}\\n\")\n",
    "    f.close()\n",
    "print(factice.date())\n",
    "\n",
    "\n",
    "create_file('3')\n",
    "create_file('4')"
   ]
  },
  {
   "cell_type": "markdown",
   "id": "117d0966-df46-48ca-a23d-d27a4b79cfa8",
   "metadata": {},
   "source": [
    "### Exo XP"
   ]
  },
  {
   "cell_type": "markdown",
   "id": "798825b3-d1c1-4d1c-b9c2-a68560e148b3",
   "metadata": {},
   "source": [
    "**Step 1**: Create the Siamese Class\n",
    "\n",
    "1. Create a class called Siamese that inherits from the Cat class.\n",
    "2. You can add any specific attributes or methods for the Siamese breed, or leave it as is if there are no unique behaviors."
   ]
  },
  {
   "cell_type": "code",
   "execution_count": null,
   "id": "e4c72c45-28ce-4e32-bd7e-a3076d54e04d",
   "metadata": {},
   "outputs": [],
   "source": [
    "class Pets():\n",
    "    def __init__(self, animals):\n",
    "        self.animals = animals\n",
    "\n",
    "    def walk(self):\n",
    "        for animal in self.animals:\n",
    "            print(animal.walk())\n",
    "\n",
    "class Cat():\n",
    "    is_lazy = True\n",
    "\n",
    "    def __init__(self, name, age):\n",
    "        self.name = name\n",
    "        self.age = age\n",
    "\n",
    "    def walk(self):\n",
    "        return f'{self.name} is just walking around'\n",
    "\n",
    "class Bengal(Cat):\n",
    "    def sing(self, sounds):\n",
    "        return f'{sounds}'\n",
    "\n",
    "class Chartreux(Cat):\n",
    "    def sing(self, sounds):\n",
    "        return f'{sounds}'"
   ]
  },
  {
   "cell_type": "code",
   "execution_count": 13,
   "id": "b2423b96-e7e4-4301-ba2b-262375a52a75",
   "metadata": {},
   "outputs": [],
   "source": [
    "#Cat, donc elle récupère automatiquement les attributs name, age, et la méthode walk().\n",
    "class Siamese(Cat):\n",
    "    def sing(self, sounds):\n",
    "        return f'{sounds}'"
   ]
  },
  {
   "cell_type": "markdown",
   "id": "6313f408-637f-4f30-9a30-26a69ceed464",
   "metadata": {},
   "source": [
    "**Step 2**: Create a List of Cat Instances\n",
    "\n",
    "Create a list called all_cats that contains instances of Bengal, Chartreux, and Siamese cats.\n",
    "Example: all_cats = [bengal_obj, chartreux_obj, siamese_obj]\n",
    "Give each cat a name and age.\n"
   ]
  },
  {
   "cell_type": "markdown",
   "id": "08669f97-2959-4b4d-8cf8-2d60f966ef95",
   "metadata": {},
   "source": [
    "**Step 2**: Create a List of Cat Instances\n",
    "\n",
    "1. Create a list called all_cats that contains instances of Bengal, Chartreux, and Siamese cats.\n",
    "2. Example: all_cats = [bengal_obj, chartreux_obj, siamese_obj]\n",
    "3. Give each cat a name and age.\n"
   ]
  },
  {
   "cell_type": "code",
   "execution_count": 15,
   "id": "6ecacdde-0eb8-4e22-aca4-1cad09580779",
   "metadata": {},
   "outputs": [],
   "source": [
    "#Cration de liste\n",
    "#name and age.\n",
    "all_cats = [Bengal('fluffy', 5), Chartreux('princess', 2), Siamese('Garfild', 7)]"
   ]
  },
  {
   "cell_type": "markdown",
   "id": "d4348f2b-3104-409e-ad7b-e94d371bb1de",
   "metadata": {},
   "source": [
    "**Step 3**: Create a Pets Instance\n",
    "\n",
    "Create an instance of the Pets class called sara_pets, passing the all_cats list as an argument.\n"
   ]
  },
  {
   "cell_type": "code",
   "execution_count": 16,
   "id": "a8daf77a-f815-4670-970b-6cfb8b32b299",
   "metadata": {},
   "outputs": [],
   "source": [
    "sara_pets = Pets(all_cats)"
   ]
  },
  {
   "cell_type": "markdown",
   "id": "b4c663d4-a072-41a6-b30c-8ca642c8780a",
   "metadata": {},
   "source": [
    "**Step 4**: Take Cats for a Walk\n",
    "\n",
    "1. Call the walk() method on the sara_pets instance.\n",
    "2. This should print the result of calling the walk() method on each cat in the list.\n"
   ]
  },
  {
   "cell_type": "code",
   "execution_count": 17,
   "id": "34653cd1-0567-4eca-b3a6-cb7616ef6f57",
   "metadata": {},
   "outputs": [
    {
     "name": "stdout",
     "output_type": "stream",
     "text": [
      "fluffy is just walking around\n",
      "princess is just walking around\n",
      "Garfild is just walking around\n"
     ]
    }
   ],
   "source": [
    "sara_pets.walk()"
   ]
  },
  {
   "cell_type": "markdown",
   "id": "b8932889-fac1-4484-9388-538b8d02cc79",
   "metadata": {},
   "source": [
    " ### Exercise 2: Dogs"
   ]
  },
  {
   "cell_type": "markdown",
   "id": "e21ee712-297f-47d4-80c1-0b0ff9856adb",
   "metadata": {},
   "source": [
    "**Step 1**: Create the Dog Class\n",
    "\n",
    "* Create a class called Dog with name, age, and weight attributes.\n",
    "* Implement a bark() method that returns “ is barking”.\n",
    "* Implement a run_speed() method that returns weight / age * 10.\n",
    "* Implement a fight(other_dog) method that returns a string indicating which dog won the fight, based on run_speed * weight.\n"
   ]
  },
  {
   "cell_type": "code",
   "execution_count": 24,
   "id": "a4aa02d2-58bf-442f-98f7-43fc3425d642",
   "metadata": {},
   "outputs": [],
   "source": [
    "class Dog():\n",
    "    def __init__(self, name, age, weight):\n",
    "        self.name = name\n",
    "        self.age = age\n",
    "        self.weight = weight\n",
    "        \n",
    "    def bark(self):\n",
    "        return f'{self.name} is barking'\n",
    "        \n",
    "    def run_speed(self):\n",
    "        return self.weight / self.age * 10\n",
    "    \n",
    "    def  fight(self, other_dog):\n",
    "        my_power = self.run_speed() * self.weight\n",
    "        other_power = other_dog.run_speed() * other_dog.weight\n",
    "\n",
    "        if my_power > other_power:\n",
    "            return f'{self.name} won the fight against {other_dog.name}'\n",
    "        elif my_power < other_power:\n",
    "            return f'{other_dog.name} won the fight against {self.name}'\n",
    "        else:\n",
    "            return f'{self.name} and {other_dog.name} are equally strong!' \n",
    "        \n",
    "        "
   ]
  },
  {
   "cell_type": "markdown",
   "id": "058c0429-3fcd-4487-9dbe-9a49f3b12c92",
   "metadata": {},
   "source": [
    "**Step 2**: Create Dog Instances\n",
    "\n",
    "* Create three instances of the Dog class with different names, ages, and weights.\n"
   ]
  },
  {
   "cell_type": "code",
   "execution_count": 25,
   "id": "2c8e4ae4-c102-46ff-9960-c2671f43b1c2",
   "metadata": {},
   "outputs": [],
   "source": [
    "dog1 = Dog(\"Rex\", 5, 20)\n",
    "dog2 = Dog(\"Buddy\", 3, 15)\n",
    "dog3 = Dog(\"Max\", 7, 25)"
   ]
  },
  {
   "cell_type": "markdown",
   "id": "68132a55-cdc9-4de2-a365-0d9289ebfe43",
   "metadata": {},
   "source": [
    "**Step 3**: Test Dog Methods\n",
    "\n",
    "* Call the bark(), run_speed(), and fight() methods on the dog instances to test their functionality.\n"
   ]
  },
  {
   "cell_type": "code",
   "execution_count": 30,
   "id": "e2b5862d-19e0-4327-a5b4-1180d280085b",
   "metadata": {},
   "outputs": [
    {
     "name": "stdout",
     "output_type": "stream",
     "text": [
      "Rex is barking\n",
      "50.0\n"
     ]
    },
    {
     "data": {
      "text/plain": [
       "'Max won the fight against Buddy'"
      ]
     },
     "execution_count": 30,
     "metadata": {},
     "output_type": "execute_result"
    }
   ],
   "source": [
    "print(dog1.bark())  # Rex is barking\n",
    "print(dog2.run_speed()) # Buddy is barking\n",
    "dog3.fight(other_dog= dog2)  #"
   ]
  },
  {
   "cell_type": "markdown",
   "id": "78ff4add-7dc5-479d-988e-58343a7f29d9",
   "metadata": {},
   "source": [
    "###  Exercise 3: Dogs Domesticated"
   ]
  },
  {
   "cell_type": "markdown",
   "id": "1d9ea92a-ca78-4f58-a111-769349705408",
   "metadata": {},
   "source": [
    "**Step 1**: Import the Dog Class\n",
    "\n",
    "* In a new Python file, import the Dog class from the previous exercise.\n"
   ]
  },
  {
   "cell_type": "code",
   "execution_count": 31,
   "id": "be344d6a-0b5a-4704-8b16-861bae49726b",
   "metadata": {},
   "outputs": [],
   "source": [
    "from myclass import Dog"
   ]
  },
  {
   "cell_type": "markdown",
   "id": "5efcab39-1d61-4fe0-b3f8-10ca883e24e9",
   "metadata": {},
   "source": [
    "**Step 2**: Create the PetDog Class\n",
    "\n",
    "* Create a class called PetDog that inherits from the Dog class.\n",
    "* Add a trained attribute to the __init__ method, with a default value of False.\n",
    "trained means that the dog is trained to do some tricks.\n",
    "* Implement a train() method that prints the output of bark() and sets trained to True.\n",
    "* Implement a play(*args) method that prints “ all play together”.\n",
    "*args on this method is a list of dog instances.\n",
    "* Implement a do_a_trick() method that prints a random trick if trained is True.\n",
    "* Use this list for the ramdom tricks:\n",
    "tricks = [\"does a barrel roll\", \"stands on his back legs\", \"shakes your hand\", \"plays dead\"]\n",
    "* Choose a rendom index from it each time the method is called.\n"
   ]
  },
  {
   "cell_type": "code",
   "execution_count": 33,
   "id": "e2c11611-8ef9-47bc-9510-287e8fb356ee",
   "metadata": {},
   "outputs": [],
   "source": [
    "class PetDog(Dog):\n",
    "    #subclass PetDog that inherits from the Dog class\n",
    "    def __init__(self, name, age, weight):\n",
    "        #\n",
    "        super().__init__(name, age, weight)\n",
    "        #add trained attribute to init\n",
    "        self.trained = False\n",
    "    #Train method\n",
    "    def train(self,name):\n",
    "        print(self.bark())\n",
    "        self.train= True\n",
    "    # play(*args) method that prints “ all play together”. *args on this method is a list of dog instances.\n",
    "    def play(self, *dog_names):\n",
    "        for ar in dog_names:\n",
    "            lst = lst +\" \" + ar.name\n",
    "        print(f\"{lst} all play together\") \n",
    "    #  do_a_trick() method that prints a random trick if trained is True\n",
    "    def do_a_trick(self):\n",
    "        if self.trained:\n",
    "            tricks = [\"does a barrel roll\", \"stands on his back legs\", \"shakes your hand\", \"plays dead\"]\n",
    "            print(f\"{self.name} {random.choice(tricks)}\")\n",
    "\n",
    "\n",
    "\n"
   ]
  },
  {
   "cell_type": "code",
   "execution_count": null,
   "id": "2b4d1e53-88ba-48a3-9ea0-8a9796cb577c",
   "metadata": {},
   "outputs": [],
   "source": [
    "my_dog = PetDog(\"Fido\", 2, 10)\n",
    "my_dog.train()\n",
    "my_dog.play(\"Buddy\", \"Max\")\n",
    "my_dog.do_a_trick()"
   ]
  }
 ],
 "metadata": {
  "kernelspec": {
   "display_name": "Python 3 (ipykernel)",
   "language": "python",
   "name": "python3"
  },
  "language_info": {
   "codemirror_mode": {
    "name": "ipython",
    "version": 3
   },
   "file_extension": ".py",
   "mimetype": "text/x-python",
   "name": "python",
   "nbconvert_exporter": "python",
   "pygments_lexer": "ipython3",
   "version": "3.12.3"
  }
 },
 "nbformat": 4,
 "nbformat_minor": 5
}
