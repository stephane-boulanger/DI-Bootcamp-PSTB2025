{
 "cells": [
  {
   "cell_type": "markdown",
   "id": "83a50bd1-cc40-4cf5-b709-4e94956e7a57",
   "metadata": {},
   "source": [
    "### Day 3 : POO\n"
   ]
  },
  {
   "cell_type": "code",
   "execution_count": 1,
   "id": "54942219-232b-45e6-b583-b0619aacbfa0",
   "metadata": {},
   "outputs": [
    {
     "name": "stdout",
     "output_type": "stream",
     "text": [
      "John\n",
      "36\n"
     ]
    }
   ],
   "source": [
    "class Person():\n",
    "  def __init__(self, name, age):\n",
    "    self.name = name\n",
    "    self.age = age\n",
    "\n",
    "first_person = Person(\"John\", 36)\n",
    "\n",
    "print(first_person.name)\n",
    "print(first_person.age)"
   ]
  },
  {
   "cell_type": "markdown",
   "id": "ad2fcd6b-174f-4eb4-8491-23a386d33a96",
   "metadata": {},
   "source": [
    "### Exercise"
   ]
  },
  {
   "cell_type": "markdown",
   "id": "28c80dd3-2149-42c5-8bb4-1339b03e50e1",
   "metadata": {},
   "source": [
    "1. Analyse the code below. What will be the ouput ?\n",
    "2. Explain the goal of the __init__() method"
   ]
  },
  {
   "cell_type": "code",
   "execution_count": 2,
   "id": "93baf40e-988f-43e9-a593-5ef0dec12cf5",
   "metadata": {},
   "outputs": [
    {
     "name": "stdout",
     "output_type": "stream",
     "text": [
      "p.x is: 3\n",
      "p.y is: 4\n"
     ]
    }
   ],
   "source": [
    "class Point():\n",
    "    def __init__(self, x, y):\n",
    "        self.x = x\n",
    "        self.y = y\n",
    "\n",
    "## create an instance of the class\n",
    "p = Point(3,4)\n",
    "\n",
    "## access the attributes\n",
    "print(\"p.x is:\", p.x)\n",
    "print(\"p.y is:\", p.y)"
   ]
  },
  {
   "cell_type": "code",
   "execution_count": 4,
   "id": "fbed8500-0040-4e71-96c9-1dec73da6b4a",
   "metadata": {},
   "outputs": [],
   "source": [
    "class Dog():\n",
    "    # Initializer / Instance Attributes\n",
    "    def __init__(self, name_of_the_dog):\n",
    "        print(\"A new dog has been initialized !\")\n",
    "        print(\"His name is\", name_of_the_dog)\n",
    "        self.name = name_of_the_dog\n",
    "\n",
    "    def bark(self):\n",
    "        print(f\"{self.name} barks ! WAF\")\n",
    "\n",
    "    def walk(self, number_of_meters):\n",
    "        print(f\"{self.name} walked {number_of_meters} meters\")\n",
    "\n"
   ]
  },
  {
   "cell_type": "code",
   "execution_count": 5,
   "id": "40b0ce03-9e53-4ecf-ae5f-6351730ff766",
   "metadata": {},
   "outputs": [
    {
     "name": "stdout",
     "output_type": "stream",
     "text": [
      "A new dog has been initialized !\n",
      "His name is Rex\n",
      "Rex walked 10 meters\n"
     ]
    }
   ],
   "source": [
    "shelter_dog = Dog(\"Rex\")\n",
    "shelter_dog.walk(10)"
   ]
  },
  {
   "cell_type": "markdown",
   "id": "6bd65b9c-a8bd-4cd6-922a-84ecc612dd6c",
   "metadata": {},
   "source": [
    "**use instance methods to modify object’s attributes**"
   ]
  },
  {
   "cell_type": "code",
   "execution_count": 8,
   "id": "95bfa3ed-143f-438e-b5e4-ff13309f2110",
   "metadata": {},
   "outputs": [],
   "source": [
    "class Dog():\n",
    "    # Initializer / Instance Attributes\n",
    "    def __init__(self, name_of_the_dog):\n",
    "        print(\"A new dog has been initialized !\")\n",
    "        print(\"His name is\", name_of_the_dog)\n",
    "        self.name = name_of_the_dog\n",
    "\n",
    "    def bark(self):\n",
    "        print(f\"{self.name} barks ! WAF\")\n",
    "\n",
    "    def walk(self, number_of_meters):\n",
    "        print(f\"{self.name} walked {number_of_meters} meters\")\n",
    "    #Nouvelle methode pour modifier les attribues de l'objet\n",
    "    def rename(self, new_name):\n",
    "        self.name = new_name"
   ]
  },
  {
   "cell_type": "code",
   "execution_count": 9,
   "id": "08462ba6-4e85-4e5b-8fca-c92653d9a412",
   "metadata": {},
   "outputs": [
    {
     "name": "stdout",
     "output_type": "stream",
     "text": [
      "A new dog has been initialized !\n",
      "His name is Rex\n"
     ]
    }
   ],
   "source": [
    "shelter_dog = Dog(\"Rex\")\n",
    "shelter_dog.rename(\"Paul\")"
   ]
  },
  {
   "cell_type": "code",
   "execution_count": 12,
   "id": "1893fd0b-2b00-49fd-a044-08007795ff67",
   "metadata": {},
   "outputs": [
    {
     "data": {
      "text/plain": [
       "'Paul'"
      ]
     },
     "execution_count": 12,
     "metadata": {},
     "output_type": "execute_result"
    }
   ],
   "source": [
    "#Verif du nouveau nom\n",
    "shelter_dog.name "
   ]
  },
  {
   "cell_type": "markdown",
   "id": "8bfdb543-0603-4551-bad3-df19404ea45e",
   "metadata": {},
   "source": [
    "#### Exercise\n",
    "- Analyse the code below. What will be the output ?\n",
    "- Explain the goal of the methods\n",
    "- Create a method that modifies the name of the person"
   ]
  },
  {
   "cell_type": "code",
   "execution_count": 13,
   "id": "55a606d5-cec3-476a-8105-b3b351b0b16e",
   "metadata": {},
   "outputs": [
    {
     "name": "stdout",
     "output_type": "stream",
     "text": [
      "Hello my name is John\n"
     ]
    }
   ],
   "source": [
    "class Person():\n",
    "  def __init__(self, name, age):\n",
    "    self.name = name\n",
    "    self.age = age\n",
    "  #Cette methode \n",
    "  def show_details(self):\n",
    "    print(\"Hello my name is \" + self.name)\n",
    "\n",
    "  def modifyed_name(self, new_name):\n",
    "      self.name = new_name\n",
    "\n",
    "first_person = Person(\"John\", 36)\n",
    "first_person.show_details()\n",
    "first_person.modifyed_name(\"Pierre\")"
   ]
  },
  {
   "cell_type": "code",
   "execution_count": 14,
   "id": "61386ad4-4d17-4ba3-9f9e-5d7614ecb216",
   "metadata": {},
   "outputs": [
    {
     "name": "stdout",
     "output_type": "stream",
     "text": [
      "Hello my name is Pierre\n"
     ]
    }
   ],
   "source": [
    "first_person.show_details()"
   ]
  },
  {
   "cell_type": "markdown",
   "id": "7ced61e3-83b2-4dd3-bb70-77bea459085c",
   "metadata": {},
   "source": [
    "- Analyse the code below. What will be the output ?"
   ]
  },
  {
   "cell_type": "code",
   "execution_count": 16,
   "id": "741cbf4d-04be-4135-8b82-0cd4908dfd79",
   "metadata": {},
   "outputs": [
    {
     "name": "stdout",
     "output_type": "stream",
     "text": [
      "Apple\n",
      "I am a computer, my name is Mark\n",
      "<__main__.Computer object at 0x0000020EFAA68E30>\n",
      "I am a computer, my name is Mark\n",
      "<__main__.Computer object at 0x0000020EFAA68E30>\n"
     ]
    }
   ],
   "source": [
    "class Computer():\n",
    "\n",
    "    def description(self, name):\n",
    "        \"\"\"\n",
    "        This is a totally useless function\n",
    "        \"\"\"\n",
    "        print(\"I am a computer, my name is\", name)\n",
    "        #Analyse the line below\n",
    "        print(self)\n",
    "\n",
    "mac_computer = Computer()\n",
    "mac_computer.brand = \"Apple\"\n",
    "print(mac_computer.brand)\n",
    "\n",
    "dell_computer = Computer()\n",
    "\n",
    "Computer.description(dell_computer, \"Mark\")\n",
    "# IS THE SAME AS:\n",
    "dell_computer.description(\"Mark\")"
   ]
  },
  {
   "cell_type": "code",
   "execution_count": 84,
   "id": "e0f6cdd6-6fcc-442a-bd2d-f7aafbb549f4",
   "metadata": {},
   "outputs": [],
   "source": [
    "class BankAccount:\n",
    "\n",
    "    def __init__(self, account_number, balance=0):\n",
    "        self.account_number = account_number\n",
    "        self.balance = balance\n",
    "        self.transactions = []\n",
    "\n",
    "    def view_balance(self):\n",
    "        self.transactions.append(\"View Balance\")\n",
    "        print(f\"Balance for account {self.account_number}: {self.balance}\")\n",
    "\n",
    "    def deposit(self, amount):\n",
    "        if amount <= 0:\n",
    "            print(\"Invalid amount\")\n",
    "        elif amount < 100:\n",
    "            print(\"Minimum deposit is 100\")\n",
    "        else:\n",
    "            self.balance += amount\n",
    "            self.transactions.append(f\"Deposit: {amount}\")\n",
    "            print(\"Deposit Succcessful\")\n",
    "\n",
    "    def withdraw(self, amount):\n",
    "        if amount > self.balance:\n",
    "            print(\"Insufficient Funds\")\n",
    "        else:\n",
    "            self.balance -= amount\n",
    "            self.transactions.append(f\"Withdraw: {amount}\")\n",
    "            print(\"Withdraw Approved\")\n",
    "            return amount\n",
    "\n",
    "    def view_transactions(self):\n",
    "        print(\"Transactions:\")\n",
    "        print(\"-------------\")\n",
    "        for transaction in self.transactions:\n",
    "            print(transaction)\n"
   ]
  },
  {
   "cell_type": "code",
   "execution_count": 85,
   "id": "02ae3807-4fab-4d99-868a-292cda9b156a",
   "metadata": {},
   "outputs": [],
   "source": [
    "compte_BHS = BankAccount(account_number=123581321, balance=1000000)"
   ]
  },
  {
   "cell_type": "code",
   "execution_count": 86,
   "id": "c69300c7-4ddd-42cf-86fe-ef10339e0595",
   "metadata": {},
   "outputs": [
    {
     "name": "stdout",
     "output_type": "stream",
     "text": [
      "Deposit Succcessful\n"
     ]
    }
   ],
   "source": [
    "compte_BHS.deposit(1000000)"
   ]
  },
  {
   "cell_type": "code",
   "execution_count": 88,
   "id": "b9fcd5df-c764-4a77-8316-8ec59857ad99",
   "metadata": {},
   "outputs": [
    {
     "name": "stdout",
     "output_type": "stream",
     "text": [
      "Withdraw Approved\n",
      "Transactions:\n",
      "-------------\n",
      "Deposit: 1000000\n",
      "Withdraw: 500000\n",
      "Withdraw: 500000\n"
     ]
    }
   ],
   "source": [
    "compte_BHS.withdraw(500000)\n",
    "compte_BHS.view_transactions()"
   ]
  },
  {
   "cell_type": "code",
   "execution_count": 90,
   "id": "38966df9-5759-4013-8ccb-e19fecfe792e",
   "metadata": {},
   "outputs": [
    {
     "name": "stdout",
     "output_type": "stream",
     "text": [
      "Balance for account 123581321: 1000000\n"
     ]
    }
   ],
   "source": [
    "compte_BHS.view_balance()"
   ]
  },
  {
   "cell_type": "markdown",
   "id": "95e5f6ad-18bd-4de3-9f8b-c4b7b3df0699",
   "metadata": {},
   "source": [
    "### Exercices XP"
   ]
  },
  {
   "cell_type": "markdown",
   "id": "b5308a80-d58d-4252-a3b1-fbc2c66cf6d1",
   "metadata": {},
   "source": [
    "**Exercice 1**\n",
    "\n",
    "**Step 1: Create Cat Objects**\n",
    "\n",
    "1. Use the Cat class to create three cat objects with different names and ages.\n"
   ]
  },
  {
   "cell_type": "code",
   "execution_count": 18,
   "id": "3c87e9c8-8518-4a61-97bb-e6ab158026d3",
   "metadata": {},
   "outputs": [],
   "source": [
    "class Cat:\n",
    "    def __init__(self, cat_name, cat_age):\n",
    "        self.name = cat_name\n",
    "        self.age = cat_age"
   ]
  },
  {
   "cell_type": "code",
   "execution_count": 30,
   "id": "ec496932-c7c3-485e-95f8-2705430d9570",
   "metadata": {},
   "outputs": [],
   "source": [
    "# Step 1: Create cat objects\n",
    "chat1 = Cat(\"Garfield\", 1)\n",
    "chat2 = Cat(\"Cheshir\", 3)\n",
    "chat3 = Cat(\"Tom\", 2)"
   ]
  },
  {
   "cell_type": "markdown",
   "id": "33815f4c-d0ac-443c-b8dd-9ecb08ea7338",
   "metadata": {},
   "source": [
    "**Step 2: Create a Function to Find the Oldest Cat**\n",
    "\n",
    "1. Create a function that takes the three cat objects as input.\n",
    "2. In side the function, compare the ages of the cats to find the oldest one.\n",
    "3. Return the oldest cat object."
   ]
  },
  {
   "cell_type": "code",
   "execution_count": 34,
   "id": "410df083-b36a-4af7-ae93-a84c0e79b08c",
   "metadata": {},
   "outputs": [],
   "source": [
    "class Cat:\n",
    "    def __init__(self, cat_name, cat_age):\n",
    "        self.name = cat_name\n",
    "        self.age = cat_age\n",
    "\n",
    "\n",
    "    # Step 1: Create a function that takes the three cat objects as input\n",
    "    def find_oldest_cat(cat1, cat2, cat3):\n",
    "    \n",
    "        # Step 2: Compare the ages of the cats to find the oldest one\n",
    "        if cat1.age >= cat2.age and cat1.age >= cat3.age:\n",
    "            oldest = cat1\n",
    "        elif cat2.age >= cat1.age and cat2.age >= cat3.age:\n",
    "            oldest = cat2\n",
    "        else:\n",
    "            oldest = cat3\n",
    "    \n",
    "        # Step 3: Return the oldest cat object\n",
    "        return oldest\n",
    "\n",
    "\n",
    "    #Autre method \n",
    "    def find_oldest_cat(cat1, cat2, cat3):\n",
    "        # Utiliser la fonction max() \n",
    "        oldest = max([cat1, cat2, cat3], key=lambda cat: cat.age)\n",
    "        return oldest\n",
    "\n"
   ]
  },
  {
   "cell_type": "code",
   "execution_count": 35,
   "id": "a0df540f-7d7f-43c6-8824-03bfbc9a97ee",
   "metadata": {},
   "outputs": [
    {
     "name": "stdout",
     "output_type": "stream",
     "text": [
      "The oldest cat is Luna, and is 5 years old.\n"
     ]
    }
   ],
   "source": [
    "# --- Example usage ---\n",
    "cat1 = Cat(\"Milo\", 2)\n",
    "cat2 = Cat(\"Luna\", 5)\n",
    "cat3 = Cat(\"Simba\", 3)\n",
    "\n",
    "oldest_cat = find_oldest_cat(cat1, cat2, cat3)\n",
    "\n",
    "print(f\"The oldest cat is {oldest_cat.name}, and is {oldest_cat.age} years old.\")"
   ]
  },
  {
   "cell_type": "markdown",
   "id": "c16d2eab-f2cc-47ab-ae8d-062a175e6838",
   "metadata": {},
   "source": [
    "**Step 3: Print the Oldest Cat’s Details**\n",
    "\n",
    "1. Call the function to get the oldest cat.\n",
    "2. Print a formatted string: “The oldest cat is <cat_name>, and is <cat_age> years old.”\n",
    "3. Replace <cat_name> and <cat_age> with the oldest cat’s name and age."
   ]
  },
  {
   "cell_type": "code",
   "execution_count": 36,
   "id": "9e265f64-67bb-4d71-b30f-fdd2ec43eeb2",
   "metadata": {},
   "outputs": [
    {
     "name": "stdout",
     "output_type": "stream",
     "text": [
      "The oldest cat is Cheshir, and is 3 years old.\n"
     ]
    }
   ],
   "source": [
    "#Call the function\n",
    "le_vieux_chat = find_oldest_cat(chat1, chat2, chat3)\n",
    "#Print a formatted string\n",
    "print(f\"The oldest cat is {le_vieux_chat.name}, and is {le_vieux_chat.age} years old.\")"
   ]
  },
  {
   "cell_type": "markdown",
   "id": "6b0dfa2b-44cb-41c6-9997-13e85fe3abf2",
   "metadata": {},
   "source": [
    "### Exercise 2 : Dogs"
   ]
  },
  {
   "cell_type": "markdown",
   "id": "408a0a5b-16d8-47e1-ade4-3331254438e1",
   "metadata": {},
   "source": [
    "**Step 1: Create the Dog Class**\n",
    "\n",
    "1. Create a class called Dog.\n",
    "2. In the __init__ method, take name and height as parameters and create corresponding attributes.\n",
    "3. Create a bark() method that prints “ goes woof!”.\n",
    "4. Create a jump() method that prints “ jumps cm high!”, where x is height * 2."
   ]
  },
  {
   "cell_type": "code",
   "execution_count": 37,
   "id": "03d1cb80-81e0-4578-ba77-68dc938b1677",
   "metadata": {},
   "outputs": [],
   "source": [
    "class Dog:\n",
    "    def __init__ (self,dog_name, dog_height ):\n",
    "        self.name = dog_name\n",
    "        self.height = dog_height\n",
    "    def bark(self):\n",
    "        print(f\"{self.name} goes woof!\")\n",
    "    def jump(self):\n",
    "        print(f\"{self.name} jumps {self.height * 2} cm high!\")\n",
    "        "
   ]
  },
  {
   "cell_type": "code",
   "execution_count": 43,
   "id": "60f513d6-7135-4fa8-b6d2-55ea637287d0",
   "metadata": {},
   "outputs": [],
   "source": [
    "dog01 = Dog(\"davids_dog\", 40)\n",
    "dog02 = Dog(\"sarahs_dog\", 60)"
   ]
  },
  {
   "cell_type": "code",
   "execution_count": 42,
   "id": "e2796e21-6778-4460-aaa9-902ea68857e4",
   "metadata": {},
   "outputs": [
    {
     "name": "stdout",
     "output_type": "stream",
     "text": [
      "davids_dog goes woof!\n",
      "davids_dog jumps 80 cm high!\n",
      "sarahs_dog goes woof!\n",
      "sarahs_dog jumps 120 cm high!\n"
     ]
    }
   ],
   "source": [
    "# Tester les methodes\n",
    "dog1.bark()\n",
    "dog1.jump()\n",
    "\n",
    "dog2.bark()\n",
    "dog2.jump()"
   ]
  },
  {
   "cell_type": "markdown",
   "id": "414879da-cbcd-4882-8f3b-19f5f15a429f",
   "metadata": {},
   "source": [
    "**Step 2: Create Dog Objects**\n",
    "\n",
    "1. Create davids_dog and sarahs_dog objects with their respective names and heights.\n"
   ]
  },
  {
   "cell_type": "code",
   "execution_count": 46,
   "id": "d71fd38e-802d-4ec1-8b4e-01fdc3e2d089",
   "metadata": {},
   "outputs": [
    {
     "name": "stdout",
     "output_type": "stream",
     "text": [
      "davids_dog is 40 cm tall.\n",
      "sarahs_dog is 60 cm tall.\n"
     ]
    }
   ],
   "source": [
    "print(f\"{dog01.name} is {dog01.height} cm tall.\")\n",
    "print(f\"{dog02.name} is {dog02.height} cm tall.\")"
   ]
  },
  {
   "cell_type": "markdown",
   "id": "cb8f6406-655a-4afa-b1f8-466fe49f7fa8",
   "metadata": {},
   "source": [
    "**Step 3: Print Dog Details and Call Methods**\n",
    "\n",
    "1. Print the name and height of each dog.\n",
    "2. Call the bark() and jump() methods for each dog."
   ]
  },
  {
   "cell_type": "code",
   "execution_count": 45,
   "id": "0e98345f-7887-4aea-b105-463c5f1d25fb",
   "metadata": {},
   "outputs": [
    {
     "name": "stdout",
     "output_type": "stream",
     "text": [
      "davids_dog goes woof!\n",
      "davids_dog jumps 80 cm high!\n",
      "sarahs_dog goes woof!\n",
      "sarahs_dog jumps 120 cm high!\n"
     ]
    }
   ],
   "source": [
    "dog01.bark()\n",
    "dog01.jump()\n",
    "\n",
    "dog02.bark()\n",
    "dog02.jump()"
   ]
  },
  {
   "cell_type": "markdown",
   "id": "90b15f3e-a800-4fd3-9e09-91e055f1fcf1",
   "metadata": {},
   "source": [
    "**Step 4: Compare Dog Sizes**\n",
    "\n"
   ]
  },
  {
   "cell_type": "code",
   "execution_count": 47,
   "id": "0123d754-f86c-4376-8cfe-e48414a70ac8",
   "metadata": {},
   "outputs": [
    {
     "name": "stdout",
     "output_type": "stream",
     "text": [
      "The bigger dog is sarahs_dog.\n"
     ]
    }
   ],
   "source": [
    "# Compare which dog is taller\n",
    "if dog1.height > dog2.height:\n",
    "    print(f\"The bigger dog is {dog1.name}.\")\n",
    "elif dog2.height > dog1.height:\n",
    "    print(f\"The bigger dog is {dog2.name}.\")\n",
    "else:\n",
    "    print(\"Both dogs are the same height!\")"
   ]
  },
  {
   "cell_type": "markdown",
   "id": "877c460c-5ce0-4fb6-84a0-a4818e2cb8ef",
   "metadata": {},
   "source": [
    "### Exercise 3 : Who’s the song producer?"
   ]
  },
  {
   "cell_type": "markdown",
   "id": "373b502a-062e-4c57-9419-9aec2d90767e",
   "metadata": {},
   "source": [
    "**Step 1: Create the Song Class**\n",
    "\n",
    "1. Create a class called Song.\n",
    "2. In the __init__ method, take lyrics (a list) as a parameter and create a corresponding attribute.\n",
    "3. Create a sing_me_a_song() method that prints each element of the lyrics list on a new line.\n"
   ]
  },
  {
   "cell_type": "code",
   "execution_count": 49,
   "id": "48846bfa-c04b-4977-93f7-7559c5a4bff1",
   "metadata": {},
   "outputs": [],
   "source": [
    "class Song:\n",
    "    def __init__(self, lyrics):\n",
    "        self.lyrics = lyrics \n",
    "    def sing_me_a_song(self):\n",
    "        for line in self.lyrics:\n",
    "            print(line)"
   ]
  },
  {
   "cell_type": "code",
   "execution_count": 54,
   "id": "2e084055-6852-4abe-8e96-110b2bc27b5a",
   "metadata": {},
   "outputs": [
    {
     "name": "stdout",
     "output_type": "stream",
     "text": [
      "There’s a lady who's sure\n",
      "all that glitters is gold\n",
      "and she’s buying a stairway to heaven\n"
     ]
    }
   ],
   "source": [
    "stairway = Song([\"There’s a lady who's sure\", \"all that glitters is gold\", \"and she’s buying a stairway to heaven\"])\n",
    "\n",
    "# Call the method to sing the song\n",
    "stairway.sing_me_a_song()\n"
   ]
  },
  {
   "cell_type": "markdown",
   "id": "55f95a5c-a955-4ebe-8724-e7f72cf04da5",
   "metadata": {},
   "source": [
    "**Exercise 4 : Afternoon at the Zoo**"
   ]
  },
  {
   "cell_type": "markdown",
   "id": "4cbf82e8-4ec0-461f-9aa7-d592a6e43332",
   "metadata": {},
   "source": [
    "**Step 1. Create a class called Zoo**.\n",
    "\n",
    "2. Implement the __init__() method:\n",
    "\n",
    "* It takes a string parameter zoo_name, representing the name of the zoo.\n",
    "* Initialize an empty list called animals to keep track of animal names."
   ]
  },
  {
   "cell_type": "code",
   "execution_count": 92,
   "id": "50748a36-edae-40d0-833f-6f6b97fa7da7",
   "metadata": {},
   "outputs": [],
   "source": [
    "class Zoo:\n",
    "    def __init__(self, zoo_name):\n",
    "        self.name = zoo_name\n",
    "        #  empty list to store animal names\n",
    "        self.animals = []\n",
    "    "
   ]
  },
  {
   "cell_type": "code",
   "execution_count": 98,
   "id": "9d14bf5a-f42f-4d02-a011-bfc7f90dd2f2",
   "metadata": {},
   "outputs": [
    {
     "name": "stdout",
     "output_type": "stream",
     "text": [
      "Thoiry Park\n",
      "[]\n"
     ]
    }
   ],
   "source": [
    "# Create a zoo instance\n",
    "my_zoo = Zoo(\"Thoiry Park\")\n",
    "\n",
    "print(my_zoo.name)    \n",
    "print(my_zoo.animals) "
   ]
  },
  {
   "cell_type": "markdown",
   "id": "805de9de-2bde-4820-b3a1-cee961a9dea5",
   "metadata": {},
   "source": [
    "**Step 3**. Add a method add_animal(new_animal):\n",
    "\n",
    "* This method adds a new animal to the animals list.\n",
    "* Do not add the animal if it is already in the list."
   ]
  },
  {
   "cell_type": "code",
   "execution_count": 99,
   "id": "5d62697c-a094-43ef-8e17-976c45df2f81",
   "metadata": {},
   "outputs": [],
   "source": [
    "class Zoo:\n",
    "    def __init__(self, zoo_name):\n",
    "        self.name = zoo_name\n",
    "        self.animals = []  # empty list to store animals\n",
    "    # Step 2: Add a method to add an animal\n",
    "    def add_animal(self, new_animal):\n",
    "        # Check if the animal is not already in the list\n",
    "        if new_animal not in self.animals:\n",
    "            self.animals.append(new_animal)\n",
    "            print(f\"{new_animal}  added to the zoo.\")\n",
    "        else:\n",
    "            print(f\"{new_animal} is already in the zoo.\")"
   ]
  },
  {
   "cell_type": "code",
   "execution_count": 100,
   "id": "db2d9a44-92c7-4ded-9b0d-f19873d72dbd",
   "metadata": {},
   "outputs": [
    {
     "name": "stdout",
     "output_type": "stream",
     "text": [
      "Lion  added to the zoo.\n",
      "Tiger  added to the zoo.\n",
      "Lion is already in the zoo.\n",
      "Animals in the zoo: ['Lion', 'Tiger']\n"
     ]
    }
   ],
   "source": [
    "# Add animals\n",
    "my_zoo.add_animal(\"Lion\")\n",
    "my_zoo.add_animal(\"Tiger\")\n",
    "my_zoo.add_animal(\"Lion\")  # duplicate test\n",
    "\n",
    "# Display list of animals\n",
    "print(\"Animals in the zoo:\", my_zoo.animals)"
   ]
  },
  {
   "cell_type": "markdown",
   "id": "26c94c00-4674-404b-9584-98d9968b2f48",
   "metadata": {},
   "source": [
    "**Step 4**. Add a method get_animals():\n",
    "\n",
    "This method prints all animals currently in the zoo."
   ]
  },
  {
   "cell_type": "code",
   "execution_count": 101,
   "id": "8624f36e-a6c6-46cb-ba67-33a0842d144f",
   "metadata": {},
   "outputs": [],
   "source": [
    "class Zoo:\n",
    "    def __init__(self, zoo_name):\n",
    "        self.name = zoo_name\n",
    "        self.animals = []  # empty list to store animals\n",
    "    # Step 2: Add a method to add an animal\n",
    "    def add_animal(self, new_animal):\n",
    "        # Check if the animal is not already in the list\n",
    "        if new_animal not in self.animals:\n",
    "            self.animals.append(new_animal)\n",
    "            print(f\"{new_animal}  added to the zoo.\")\n",
    "        else:\n",
    "            print(f\"{new_animal} is already in the zoo.\")\n",
    "    # Step 3: Add a method to display all animals\n",
    "    def get_animals(self):\n",
    "        print(f\"Animals currently in {self.name}:\")\n",
    "        for animal in self.animals:\n",
    "            print(f\"- {animal}\")"
   ]
  },
  {
   "cell_type": "markdown",
   "id": "1512dc25-2c8d-48fc-b347-40bc1d39e5cc",
   "metadata": {},
   "source": [
    "**Step 5**. Add a method sell_animal(animal_sold):\n",
    "\n",
    "This method checks if a specified animal exists on the animals list and if so, remove from it."
   ]
  },
  {
   "cell_type": "code",
   "execution_count": null,
   "id": "1dd7901b-f957-47cc-99f6-86ba08d0ded7",
   "metadata": {},
   "outputs": [],
   "source": [
    "class Zoo:\n",
    "    def __init__(self, zoo_name):\n",
    "        self.name = zoo_name\n",
    "        self.animals = []  # empty list to store animals\n",
    "    # Step 2: Add a method to add an animal\n",
    "    def add_animal(self, new_animal):\n",
    "        # Check if the animal is not already in the list\n",
    "        if new_animal not in self.animals:\n",
    "            self.animals.append(new_animal)\n",
    "            print(f\"{new_animal}  added to the zoo.\")\n",
    "        else:\n",
    "            print(f\"{new_animal} is already in the zoo.\")\n",
    "    # Step 3: Add a method to display all animals\n",
    "    def get_animals(self):\n",
    "        print(f\"Animals currently in {self.name}:\")\n",
    "        for animal in self.animals:\n",
    "            print(f\"- {animal}\")\n",
    "    #Step 4 : checks if a specified animal exists on the animals list and if so, remove from it  sell_animal(animal_sold):.\n",
    "    def sell_animal(self, animal_sold):\n",
    "        if animal_sold in self.animals:\n",
    "            self.animals.remove(animal_sold)\n",
    "            print(f\"{animal_sold} has been sold and removed from the zoo.\")\n",
    "        else:\n",
    "            print(f\"{animal_sold} is not found in the zoo.\")\n",
    "        "
   ]
  },
  {
   "cell_type": "markdown",
   "id": "0ae9f28d-bcdd-4a13-a7d4-1b000b438267",
   "metadata": {},
   "source": [
    "**Step 6**. Add a method sort_animals():\n",
    "\n",
    "* This method sorts the animals alphabetically.\n",
    "* It also groups them by the first letter of their name.\n",
    "* The result should be a dictionary where:\n",
    "* Each key is a letter.\n",
    "* Each value is a list of animals that start with that letter."
   ]
  },
  {
   "cell_type": "code",
   "execution_count": 102,
   "id": "967696a5-71e6-4bb8-b984-708c1189015d",
   "metadata": {},
   "outputs": [],
   "source": [
    "class Zoo:\n",
    "    def __init__(self, zoo_name):\n",
    "        self.name = zoo_name\n",
    "        self.animals = []  # empty list to store animals\n",
    "    # Step 3: Add a method to add an animal\n",
    "    def add_animal(self, new_animal):\n",
    "        # Check if the animal is not already in the list\n",
    "        if new_animal not in self.animals:\n",
    "            self.animals.append(new_animal)\n",
    "            print(f\"{new_animal}  added to the zoo.\")\n",
    "        else:\n",
    "            print(f\"{new_animal} is already in the zoo.\")\n",
    "    # Step 4: Add a method to display all animals\n",
    "    def get_animals(self):\n",
    "        print(f\"Animals currently in {self.name}:\")\n",
    "        for animal in self.animals:\n",
    "            print(f\"- {animal}\")\n",
    "    #Step 5 : checks if a specified animal exists on the animals list and if so, remove from it  sell_animal(animal_sold):.\n",
    "    def sell_animal(self, animal_sold):\n",
    "        if animal_sold in self.animals:\n",
    "            self.animals.remove(animal_sold)\n",
    "            print(f\"{animal_sold} has been sold and removed from the zoo.\")\n",
    "        else:\n",
    "            print(f\"{animal_sold} is not found in the zoo.\")\n",
    "    #Step 6\n",
    "    def sort_animals(self):\n",
    "        #self.animals.sort()\n",
    "        # Sort the animal list alphabetically\n",
    "        self.animals.sort()\n",
    "        grouped = {}\n",
    "        # Group animals by first letter\n",
    "        for animal in self.animals:\n",
    "            first_letter = animal[0].upper()\n",
    "            if first_letter not in grouped:\n",
    "                grouped[first_letter] = [animal]\n",
    "            else:\n",
    "                grouped[first_letter].append(animal)\n",
    "        return grouped\n",
    "        "
   ]
  },
  {
   "cell_type": "code",
   "execution_count": 103,
   "id": "d0b27362-cff9-41c5-9840-43c83eab42f8",
   "metadata": {},
   "outputs": [
    {
     "name": "stdout",
     "output_type": "stream",
     "text": [
      "Elephant  added to the zoo.\n",
      "Zebra  added to the zoo.\n",
      "Lion  added to the zoo.\n",
      "Eagle  added to the zoo.\n",
      "Lemur  added to the zoo.\n",
      "Tiger  added to the zoo.\n",
      "Animals currently in Safari Park:\n",
      "- Elephant\n",
      "- Zebra\n",
      "- Lion\n",
      "- Eagle\n",
      "- Lemur\n",
      "- Tiger\n",
      "\n",
      "Grouped animals:\n",
      "E: ['Eagle', 'Elephant']\n",
      "L: ['Lemur', 'Lion']\n",
      "T: ['Tiger']\n",
      "Z: ['Zebra']\n"
     ]
    }
   ],
   "source": [
    "# Create the zoo\n",
    "my_zoo = Zoo(\"Safari Park\")\n",
    "\n",
    "# Add animals\n",
    "my_zoo.add_animal(\"Elephant\")\n",
    "my_zoo.add_animal(\"Zebra\")\n",
    "my_zoo.add_animal(\"Lion\")\n",
    "my_zoo.add_animal(\"Eagle\")\n",
    "my_zoo.add_animal(\"Lemur\")\n",
    "my_zoo.add_animal(\"Tiger\")\n",
    "\n",
    "# Get animals\n",
    "my_zoo.get_animals()\n",
    "\n",
    "# Sort and group animals\n",
    "grouped_animals = my_zoo.sort_animals()\n",
    "\n",
    "# Display the grouped dictionary\n",
    "print(\"\\nGrouped animals:\")\n",
    "for letter, names in grouped_animals.items():\n",
    "    print(f\"{letter}: {names}\")\n"
   ]
  },
  {
   "cell_type": "markdown",
   "id": "881fe292-0c67-4cac-b9a0-ff8c92e7f9cb",
   "metadata": {},
   "source": [
    "**7. Add a method get_groups():**\n",
    "\n",
    "- This method prints the grouped animals as created by sort_animals()."
   ]
  },
  {
   "cell_type": "code",
   "execution_count": 104,
   "id": "fed777d9-5784-419e-9bbe-ee89d1a61bff",
   "metadata": {},
   "outputs": [],
   "source": [
    "class Zoo:\n",
    "    def __init__(self, zoo_name):\n",
    "        self.name = zoo_name\n",
    "        self.animals = []      # list to store animals\n",
    "        self.groups = {}       # will hold grouped animals later\n",
    "\n",
    "    # Step 2: Add an animal\n",
    "    def add_animal(self, new_animal):\n",
    "        if new_animal not in self.animals:\n",
    "            self.animals.append(new_animal)\n",
    "            print(f\"{new_animal} has been added to the zoo.\")\n",
    "        else:\n",
    "            print(f\"{new_animal} is already in the zoo.\")\n",
    "\n",
    "    # Step 3: Display all animals\n",
    "    def get_animals(self):\n",
    "        print(f\"\\nAnimals currently in {self.name}:\")\n",
    "        for animal in self.animals:\n",
    "            print(f\"- {animal}\")\n",
    "\n",
    "    # Step 5: Sell (remove) an animal\n",
    "    def sell_animal(self, animal_sold):\n",
    "        if animal_sold in self.animals:\n",
    "            self.animals.remove(animal_sold)\n",
    "            print(f\"{animal_sold} has been sold and removed from the zoo.\")\n",
    "        else:\n",
    "            print(f\"{animal_sold} is not found in the zoo.\")\n",
    "\n",
    "    # Step 6: Sort and group animals alphabetically\n",
    "    def sort_animals(self):\n",
    "        self.animals.sort()\n",
    "        grouped = {}\n",
    "        for animal in self.animals:\n",
    "            first_letter = animal[0].upper()\n",
    "            grouped.setdefault(first_letter, []).append(animal)\n",
    "        self.groups = grouped   # store grouped animals\n",
    "        return grouped\n",
    "\n",
    "    # Step 7: Display grouped animals\n",
    "    def get_groups(self):\n",
    "        if not self.groups:\n",
    "            print(\"\\nNo groups found. Please run sort_animals() first.\")\n",
    "        else:\n",
    "            print(f\"\\nAnimal groups in {self.name}:\")\n",
    "            for letter, names in self.groups.items():\n",
    "                print(f\"{letter}: {names}\")\n"
   ]
  },
  {
   "cell_type": "code",
   "execution_count": 105,
   "id": "60618973-8172-4903-aa00-c7667300f1bf",
   "metadata": {},
   "outputs": [
    {
     "name": "stdout",
     "output_type": "stream",
     "text": [
      "Elephant has been added to the zoo.\n",
      "Zebra has been added to the zoo.\n",
      "Lion has been added to the zoo.\n",
      "Eagle has been added to the zoo.\n",
      "Lemur has been added to the zoo.\n",
      "Tiger has been added to the zoo.\n",
      "\n",
      "Animals currently in Safari Park:\n",
      "- Elephant\n",
      "- Zebra\n",
      "- Lion\n",
      "- Eagle\n",
      "- Lemur\n",
      "- Tiger\n",
      "\n",
      "Animal groups in Safari Park:\n",
      "E: ['Eagle', 'Elephant']\n",
      "L: ['Lemur', 'Lion']\n",
      "T: ['Tiger']\n",
      "Z: ['Zebra']\n"
     ]
    }
   ],
   "source": [
    "# Create the zoo\n",
    "my_zoo = Zoo(\"Safari Park\")\n",
    "\n",
    "# Add animals\n",
    "my_zoo.add_animal(\"Elephant\")\n",
    "my_zoo.add_animal(\"Zebra\")\n",
    "my_zoo.add_animal(\"Lion\")\n",
    "my_zoo.add_animal(\"Eagle\")\n",
    "my_zoo.add_animal(\"Lemur\")\n",
    "my_zoo.add_animal(\"Tiger\")\n",
    "\n",
    "# Display all animals\n",
    "my_zoo.get_animals()\n",
    "\n",
    "# Sort and group them\n",
    "my_zoo.sort_animals()\n",
    "\n",
    "# Display grouped animals\n",
    "my_zoo.get_groups()\n"
   ]
  },
  {
   "cell_type": "code",
   "execution_count": null,
   "id": "d12e4b65-ca41-483f-8648-a80d838363e5",
   "metadata": {},
   "outputs": [],
   "source": []
  }
 ],
 "metadata": {
  "kernelspec": {
   "display_name": "Python 3 (ipykernel)",
   "language": "python",
   "name": "python3"
  },
  "language_info": {
   "codemirror_mode": {
    "name": "ipython",
    "version": 3
   },
   "file_extension": ".py",
   "mimetype": "text/x-python",
   "name": "python",
   "nbconvert_exporter": "python",
   "pygments_lexer": "ipython3",
   "version": "3.12.3"
  }
 },
 "nbformat": 4,
 "nbformat_minor": 5
}
